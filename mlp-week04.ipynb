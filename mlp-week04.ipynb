{
 "cells": [
  {
   "cell_type": "markdown",
   "metadata": {
    "cell_id": "00000-6b2b909d-de62-4725-b77a-4f7918b2f5a6",
    "deepnote_cell_type": "markdown"
   },
   "source": [
    "# Machine Learning in Python - Workshop 4"
   ]
  },
  {
   "cell_type": "markdown",
   "metadata": {
    "cell_id": "00001-2c500e66-1ebe-4eb7-8891-fa453665d1bb",
    "deepnote_cell_type": "markdown"
   },
   "source": [
    "## 1. Setup\n",
    "\n",
    "### 1.1 Packages\n",
    "\n",
    "In the cell below we will load the core libraries we will be using for this workshop and setting some sensible defaults for our plot size and resolution. "
   ]
  },
  {
   "cell_type": "code",
   "execution_count": null,
   "metadata": {
    "cell_id": "00002-be3af6fa-4647-4f8a-9ed8-40a8c51fb0ff",
    "deepnote_cell_type": "code"
   },
   "outputs": [],
   "source": [
    "# Display plots inline\n",
    "%matplotlib inline\n",
    "\n",
    "# Data libraries\n",
    "import pandas as pd\n",
    "import numpy as np\n",
    "\n",
    "# Plotting libraries\n",
    "import matplotlib.pyplot as plt\n",
    "import seaborn as sns\n",
    "\n",
    "# Plotting defaults\n",
    "plt.rcParams['figure.figsize'] = (8,5)\n",
    "plt.rcParams['figure.dpi'] = 80\n",
    "\n",
    "# sklearn modules\n",
    "import sklearn\n",
    "from sklearn.linear_model import LinearRegression\n",
    "from sklearn.preprocessing import PolynomialFeatures\n",
    "from sklearn.metrics import mean_squared_error\n",
    "from sklearn.pipeline import make_pipeline"
   ]
  },
  {
   "cell_type": "markdown",
   "metadata": {
    "cell_id": "00003-bd435956-0c3e-410f-8f68-8716dadde273",
    "deepnote_cell_type": "markdown"
   },
   "source": [
    "### 1.2 Data\n",
    "\n",
    "To start we will again be using the same data set from Workshop 3, which was generated via a random draw from a Gaussian Process model. It represent an unknown smooth function $f(x)$ that is observed with noise such that $y_i = f(x_i) + \\epsilon_i$. The data have been randomly thinned to include only 100 observations.\n",
    "\n",
    "We can read the data in from `gp.csv` and plot the data to see the overall trend in the data,"
   ]
  },
  {
   "cell_type": "code",
   "execution_count": null,
   "metadata": {
    "cell_id": "00004-c81f84a4-a191-49e1-9b96-ada4a1b11f39",
    "deepnote_cell_type": "code"
   },
   "outputs": [],
   "source": [
    "d = pd.read_csv(\"gp.csv\")\n",
    "n = d.shape[0] # number of rows\n",
    "\n",
    "sns.scatterplot(x='x', y='y', data=d, color=\"black\")"
   ]
  },
  {
   "cell_type": "markdown",
   "metadata": {
    "cell_id": "00005-ae22b630-ebc4-4001-9ec0-12f2556dd3b9",
    "deepnote_cell_type": "markdown"
   },
   "source": [
    "# 2. Cross validation\n",
    "\n",
    "In this section we will explore some of the tools that sklearn provides for cross validation for the purpose of model evaluation and selection. The most basic form of CV is to split the data into a testing and training set, this can be achieved using `train_test_split` from the `model_selection` submodule. Here we provide the function with our model matrix $X$ and outcome vector $y$ to obtain a test and train split of both."
   ]
  },
  {
   "cell_type": "code",
   "execution_count": null,
   "metadata": {
    "cell_id": "00006-8851c86b-4b81-4e35-bed2-9883cea07dfe",
    "deepnote_cell_type": "code"
   },
   "outputs": [],
   "source": [
    "from sklearn.model_selection import train_test_split\n",
    "\n",
    "X = np.c_[d.x]\n",
    "y = d.y\n",
    "\n",
    "X_train, X_test, y_train, y_test = train_test_split(X, y, test_size=0.2, random_state=0)"
   ]
  },
  {
   "cell_type": "markdown",
   "metadata": {
    "cell_id": "00007-d3cde2db-08cd-44fc-ac97-f57c7b556e98",
    "deepnote_cell_type": "markdown"
   },
   "source": [
    "The additional arguments `test_size` determines the proportion of data to include in the test set and `random_state` is the seed used when determining the partition assignments (keeping the seed the same will result in the same partition(s) each time this cell is rerun).\n",
    "\n",
    "We can check the dimensions of the original and new objects using their shape attributes,"
   ]
  },
  {
   "cell_type": "code",
   "execution_count": null,
   "metadata": {
    "cell_id": "00008-7e6d65e9-ae76-4e09-b146-0e3f2e88f304",
    "deepnote_cell_type": "code"
   },
   "outputs": [],
   "source": [
    "print(\"orig sizes :\", X.shape, y.shape)\n",
    "print(\"train sizes:\", X_train.shape, y_train.shape)\n",
    "print(\"test sizes :\", X_test.shape, y_test.shape)"
   ]
  },
  {
   "cell_type": "markdown",
   "metadata": {
    "cell_id": "00009-1a0d3b31-8cd8-4457-b3d0-82fb88370bce",
    "deepnote_cell_type": "markdown"
   },
   "source": [
    "With these new objects we can try several polynomial regression models, with different values of `M`, and compare their performance. Our goal is to fit the models using the training data and then evaluating their performance using the test data so that we can avoid potential overfitting.\n",
    "\n",
    "We will assess the models' performance using root mean squared error, \n",
    "\n",
    "$$ \\text{rmse} = \\left( \\frac{1}{n} \\sum_{i=1}^n (y_i - \\hat{y}_i)^2 \\right)^{1/2} $$\n",
    "\n",
    "with sklearn this is calculated using the `mean_squared_error` function with the argument `squared=False`. This metric is entirely equivalent to mean squared error for purposes of ranking / ordering models (as the square root is a monotonic transformation) but the rmse is often prefered as it is more interpretable, as it has the same units as $y$.\n",
    "\n",
    "The following code uses a `for` loop to fit 30 polynomial regression models with $M = [1,2,\\ldots,30]$ and calculates the rmse of the training data and the testing data for each model. Note that we are fitting the model *only* using the `train` split and predicting using both the `train` and the `test` split to get the train and test rmses respectively."
   ]
  },
  {
   "cell_type": "code",
   "execution_count": null,
   "metadata": {
    "cell_id": "00010-85d76a25-dba7-4875-801d-7fbbbc809899",
    "deepnote_cell_type": "code"
   },
   "outputs": [],
   "source": [
    "degree = []\n",
    "train_rmse = []\n",
    "test_rmse = []\n",
    "\n",
    "M = 30\n",
    "\n",
    "for i in np.arange(1, M+1):\n",
    "    m = make_pipeline(\n",
    "        PolynomialFeatures(degree=i),\n",
    "        LinearRegression(fit_intercept=False)\n",
    "    ).fit(X_train, y_train)\n",
    "    \n",
    "    degree.append(i)\n",
    "    train_rmse.append(mean_squared_error(y_train, m.predict(X_train), squared=False))\n",
    "    test_rmse.append(mean_squared_error(y_test, m.predict(X_test), squared=False))\n",
    "\n",
    "fit = pd.DataFrame(data = {\"degree\": degree, \"train_rmse\": train_rmse, \"test_rmse\": test_rmse})"
   ]
  },
  {
   "cell_type": "markdown",
   "metadata": {
    "cell_id": "00011-af5e2e4f-de74-46a0-b5bc-efd7ccb1b5a9",
    "deepnote_cell_type": "markdown"
   },
   "source": [
    "We can then plot `degree` vs `rmse` for these splits and observe the resulting pattern."
   ]
  },
  {
   "cell_type": "code",
   "execution_count": null,
   "metadata": {
    "cell_id": "00012-2a00fb71-ed7b-46d1-b4b6-fe299311cea4",
    "deepnote_cell_type": "code"
   },
   "outputs": [],
   "source": [
    "sns.lineplot(x=\"degree\", y=\"value\", hue=\"variable\", data = pd.melt(fit,id_vars=[\"degree\"]))"
   ]
  },
  {
   "cell_type": "markdown",
   "metadata": {
    "cell_id": "00013-02586468-5fb0-439c-b6b9-92b4400cd0ec",
    "deepnote_cell_type": "markdown"
   },
   "source": [
    "---\n",
    "\n",
    "### &diams; Exercise 1\n",
    "\n",
    "Based on these results, what value of $M$ produces the best model, justify your answer."
   ]
  },
  {
   "cell_type": "markdown",
   "metadata": {
    "cell_id": "00014-83186210-d6a1-471f-bb1d-a3f741b5531f",
    "deepnote_cell_type": "markdown"
   },
   "source": []
  },
  {
   "cell_type": "markdown",
   "metadata": {
    "cell_id": "00015-da18e360-f2c1-466e-becf-5db18f897521",
    "deepnote_cell_type": "markdown"
   },
   "source": [
    "---\n",
    "\n",
    "### &diams; Exercise 2\n",
    "\n",
    "Try adjusting the proportion of the data in the test vs training data, how does this change the Training and Testing rmse curves?"
   ]
  },
  {
   "cell_type": "markdown",
   "metadata": {
    "cell_id": "00016-22057ba7-0790-4421-868e-a841e41147dc",
    "deepnote_cell_type": "markdown"
   },
   "source": []
  },
  {
   "cell_type": "markdown",
   "metadata": {
    "cell_id": "00017-3fe5ee3d-137d-4628-af61-7f99abd30a1b",
    "deepnote_cell_type": "markdown"
   },
   "source": [
    "---\n",
    "\n",
    "## 2.1 k-fold cross validation\n",
    "\n",
    "The basic implementation of k-fold cross validation is provided by `KFold` in the `model_selection` submodule of `sklearn`. This function / object behaves in a similar way to the other `sklearn` tools we've seen before, we use the function to construct an object with some basic options and the resulting object then can be used to interact with our data / model matrix."
   ]
  },
  {
   "cell_type": "code",
   "execution_count": null,
   "metadata": {
    "cell_id": "00018-311ded87-ebac-4e55-8f5b-52c258f832b1",
    "deepnote_cell_type": "code"
   },
   "outputs": [],
   "source": [
    "from sklearn.model_selection import KFold"
   ]
  },
  {
   "cell_type": "code",
   "execution_count": null,
   "metadata": {
    "cell_id": "00019-bcb249e3-613c-406f-8d27-7d3208bfc5ce",
    "deepnote_cell_type": "code"
   },
   "outputs": [],
   "source": [
    "kf = KFold(n_splits=5)"
   ]
  },
  {
   "cell_type": "markdown",
   "metadata": {
    "cell_id": "00020-6ed60165-fc48-46f9-b175-ca65386ed0f1",
    "deepnote_cell_type": "markdown"
   },
   "source": [
    "Here we have set up the object `kf` to implement 5-fold cross validation for our data, which we can then apply using the `split` method on our model matrix `X` and response vector `y`."
   ]
  },
  {
   "cell_type": "code",
   "execution_count": null,
   "metadata": {
    "cell_id": "00021-00980725-e830-40c5-a03b-c405027bbe8f",
    "deepnote_cell_type": "code"
   },
   "outputs": [],
   "source": [
    "kf.split(X, y)"
   ]
  },
  {
   "cell_type": "markdown",
   "metadata": {
    "cell_id": "00022-c16ff884-b77c-4ab8-8df4-f5ecfc62894e",
    "deepnote_cell_type": "markdown"
   },
   "source": [
    "This returns a [generator](https://wiki.python.org/moin/Generators) which is then used to generate the indexes of the training data and test data for each fold. We can use list comprehension with this generator to view these values."
   ]
  },
  {
   "cell_type": "code",
   "execution_count": null,
   "metadata": {
    "cell_id": "00023-a4bde1e2-a0bd-4477-8020-3fcfd6948ca2",
    "deepnote_cell_type": "code"
   },
   "outputs": [],
   "source": [
    "[train for train, test in kf.split(X, y)]"
   ]
  },
  {
   "cell_type": "code",
   "execution_count": null,
   "metadata": {
    "cell_id": "00024-8cb8140d-df07-4da3-99ca-a37c09d2e429",
    "deepnote_cell_type": "code"
   },
   "outputs": [],
   "source": [
    "[test for train, test in kf.split(X, y)]"
   ]
  },
  {
   "cell_type": "markdown",
   "metadata": {
    "cell_id": "00025-3f00282f-aaec-44f2-b481-57752d0fd5a0",
    "deepnote_cell_type": "markdown"
   },
   "source": [
    "---\n",
    "\n",
    "### &diams; Exercise 3\n",
    "\n",
    "Examine the index values that make up the test and training sets, do you notice anything intesting about how `KFold` has divided up the data?"
   ]
  },
  {
   "cell_type": "markdown",
   "metadata": {
    "cell_id": "00026-cf05e4bb-5b1b-4dcf-a328-5770dd5bcb4e",
    "deepnote_cell_type": "markdown"
   },
   "source": []
  },
  {
   "cell_type": "markdown",
   "metadata": {
    "cell_id": "00027-daa2a96a-1f67-41a8-a88a-3acf53d2e228",
    "deepnote_cell_type": "markdown"
   },
   "source": [
    "---\n",
    "\n",
    "### &diams; Exercise 4\n",
    "\n",
    "Does the structure in Exercise 3 have any implications for model evaluation? Specifically, are the data in the different folds independent of each other, explain why this is important."
   ]
  },
  {
   "cell_type": "markdown",
   "metadata": {
    "cell_id": "00028-8ee9ba96-765c-4ece-8ae1-2707aa77e7a1",
    "deepnote_cell_type": "markdown"
   },
   "source": []
  },
  {
   "cell_type": "markdown",
   "metadata": {
    "cell_id": "00029-ec2c8ad1-4c94-4bac-8bff-39dc4f729b2e",
    "deepnote_cell_type": "markdown"
   },
   "source": [
    "---\n",
    "\n",
    "Using a `for` loop with the `KFold` generator it is then possible to create test and train subsets, fit the model of interest and calculate the training and testing metrics but this requires a fair bit of book keeping code to implement, see an example of this [here](https://scikit-learn.org/stable/modules/generated/sklearn.model_selection.KFold.html).\n",
    "\n",
    "However, `sklearn` provides a more convenient way of doing all of this using the  `cross_val_score` function from the `model_selection` submodule. This function takes as arguments our model or pipeline (any object implementing `fit`) and then our full model matrix $X$ and response $y$. The argument `cv` is a cross-validation generator that determines the splitting strategy (e.g. a `KFold` object)."
   ]
  },
  {
   "cell_type": "code",
   "execution_count": null,
   "metadata": {
    "cell_id": "00030-e994c03a-38a8-4a1a-be93-8b7beba1f130",
    "deepnote_cell_type": "code"
   },
   "outputs": [],
   "source": [
    "from sklearn.model_selection import cross_val_score\n",
    "\n",
    "model = make_pipeline(\n",
    "    PolynomialFeatures(degree=1),\n",
    "    LinearRegression(fit_intercept=False)\n",
    ")\n",
    "\n",
    "# Use shuffle to avoid the issue seen w/ Ex. 3 & 4\n",
    "# random_state again sets a random seed so we get the same results each time this cell is run\n",
    "kf = KFold(n_splits=5, shuffle=True, random_state=0)\n",
    "cross_val_score(model, X, y, cv=kf, scoring=\"neg_root_mean_squared_error\")"
   ]
  },
  {
   "cell_type": "markdown",
   "metadata": {
    "cell_id": "00031-6b1fd7c2-d945-49aa-9688-b60c9a92977b",
    "deepnote_cell_type": "markdown"
   },
   "source": [
    "Here we have used `\"neg_root_mean_squared_error\"` as our scoring metric which returns the negative of the root mean squared error. As the name implies this returns the negative of the usual fit metric, this is because sklearn expects to always optimize for the maximum of a score and the model with the largest negative rmse  will therefore be the \"best\". To get a list of all available scoring metrics for `cross_val_score` you can run `sorted(sklearn.metrics.SCORERS.keys())`.\n",
    "\n",
    "To obtain these 5-fold CV estimates of rmse for our models we slightly modify our original code as follows,"
   ]
  },
  {
   "cell_type": "code",
   "execution_count": null,
   "metadata": {
    "cell_id": "00032-a69a71a5-819d-4021-9934-82f34d2c86c2",
    "deepnote_cell_type": "code"
   },
   "outputs": [],
   "source": [
    "degree = []\n",
    "test_mean_rmse = []\n",
    "test_rmse = []\n",
    "\n",
    "M = 30\n",
    "kf = KFold(n_splits=5, shuffle=True, random_state=0)\n",
    "\n",
    "for i in np.arange(1,M+1):\n",
    "    model = make_pipeline(\n",
    "        PolynomialFeatures(degree=i),\n",
    "        LinearRegression(fit_intercept=False)\n",
    "    )\n",
    "    cv = -1 * cross_val_score(model, X, y, cv=kf, scoring=\"neg_root_mean_squared_error\")\n",
    "    degree.append(i)\n",
    "    test_mean_rmse.append(np.mean(cv))\n",
    "    test_rmse.append(cv)\n",
    "\n",
    "cv = pd.DataFrame(\n",
    "    data = np.c_[degree, test_mean_rmse, test_rmse],\n",
    "    columns = [\"degree\", \"mean_rmse\"] + [\"fold\" + str(i) for i in range(1,6) ]\n",
    ")"
   ]
  },
  {
   "cell_type": "markdown",
   "metadata": {
    "cell_id": "00033-6188be56-e2de-48fa-a2d9-83d94dec834b",
    "deepnote_cell_type": "markdown"
   },
   "source": [
    "This fits $5 \\times 30$ polynomial regression models for and stores the results in the data frame `cv`. The `mean_rmse` column contains the average rmse across all 5 folds."
   ]
  },
  {
   "cell_type": "code",
   "execution_count": null,
   "metadata": {
    "cell_id": "00034-6843abcb-6994-4332-9d0d-5a9348e93ce4",
    "deepnote_cell_type": "code"
   },
   "outputs": [],
   "source": [
    "cv.head(n=15)"
   ]
  },
  {
   "cell_type": "markdown",
   "metadata": {
    "cell_id": "00035-03d3ad19-6973-4f99-84d2-2fb4085a5ff1",
    "deepnote_cell_type": "markdown"
   },
   "source": [
    "We can now plot these data, to assess the different models and their performance on fitting these data."
   ]
  },
  {
   "cell_type": "code",
   "execution_count": null,
   "metadata": {
    "cell_id": "00036-5f536a49-e2a2-41cd-97ca-2316b46664ab",
    "deepnote_cell_type": "code"
   },
   "outputs": [],
   "source": [
    "sns.lineplot(x=\"degree\", y=\"mean_rmse\", data = cv, color=\"black\")\n",
    "sns.scatterplot(x=\"degree\", y=\"value\", hue=\"variable\", data = pd.melt(cv,id_vars=[\"degree\", \"mean_rmse\"]))"
   ]
  },
  {
   "cell_type": "markdown",
   "metadata": {
    "cell_id": "00037-b8dda437-8456-481d-a19c-b6e94d9a38d2",
    "deepnote_cell_type": "markdown"
   },
   "source": [
    "The plot above is a bit hard to read and compare, particularly for the lower degree polynomial models. We can address this by using a log scale for the y-axis."
   ]
  },
  {
   "cell_type": "code",
   "execution_count": null,
   "metadata": {
    "cell_id": "00038-651dd95d-5ebc-40cd-9c30-de115aa1324a",
    "deepnote_cell_type": "code"
   },
   "outputs": [],
   "source": [
    "g = sns.lineplot(x=\"degree\", y=\"mean_rmse\", data = cv, color=\"black\")\n",
    "g = sns.scatterplot(x=\"degree\", y=\"value\", hue=\"variable\", data = pd.melt(cv,id_vars=[\"degree\", \"mean_rmse\"]))\n",
    "\n",
    "g.set_yscale(\"log\")"
   ]
  },
  {
   "cell_type": "markdown",
   "metadata": {
    "cell_id": "00039-893f6125-830b-467c-9125-28982d4c76ba",
    "deepnote_cell_type": "markdown"
   },
   "source": [
    "---\n",
    "\n",
    "### &diams; Exercise 5\n",
    "\n",
    "Do these CV rmse's agree with the results we obtained when using `train_test_split`? How do they differ, is it only a single fold that differs or several?"
   ]
  },
  {
   "cell_type": "markdown",
   "metadata": {
    "cell_id": "00040-b3e99ab8-7064-44f9-97dc-1693379f61df",
    "deepnote_cell_type": "markdown"
   },
   "source": []
  },
  {
   "cell_type": "markdown",
   "metadata": {
    "cell_id": "00041-857cdad7-2681-4c5b-9468-37b4d62fe3a1",
    "deepnote_cell_type": "markdown"
   },
   "source": [
    "---\n",
    "\n",
    "### &diams; Exercise 6\n",
    "\n",
    "Based on these results, what value of $M$ do you think produces the best model, justify your answer."
   ]
  },
  {
   "cell_type": "markdown",
   "metadata": {
    "cell_id": "00042-039457ea-8aaf-471c-a1a9-e245726f456c",
    "deepnote_cell_type": "markdown"
   },
   "source": []
  },
  {
   "cell_type": "markdown",
   "metadata": {
    "cell_id": "00043-c95d8c13-bdc0-4870-9e89-e900d920443c",
    "deepnote_cell_type": "markdown"
   },
   "source": [
    "---\n",
    "\n",
    "## 2.2 CV Grid Search\n"
   ]
  },
  {
   "cell_type": "markdown",
   "metadata": {
    "cell_id": "00044-e95138bd-5ab0-438e-8ad9-7d5a41b468e8",
    "deepnote_cell_type": "markdown"
   },
   "source": [
    "We can further reduce the amount of code needed if we wish to test over a specific set of parameter values  using cross validation. This is accomplished by using the `GridSearchCV` function from the `model_selection` submodule. \n",
    "\n",
    "This function works similarly to `cross_val_score`, but with the addition of the `param_grid` argument. This argument is a dictionary containing parameters names as keys and lists of parameter settings to try as values. Since we are using a pipeline, out parameter name will be the name of the pipeline step, `polynomialfeatures`, followed by `__`, and then the parameter name, `degree`. So for our pipeline the parameter is named `polynomialfeatures__degree`. If you want to list any models available parameters you can call the `get_params()` method on the model object, e.g. `m.get_params()` here."
   ]
  },
  {
   "cell_type": "code",
   "execution_count": null,
   "metadata": {
    "cell_id": "00045-e9da347e-236d-415b-9170-1101b6d4c66c",
    "deepnote_cell_type": "code"
   },
   "outputs": [],
   "source": [
    "from sklearn.model_selection import GridSearchCV\n",
    "\n",
    "m = make_pipeline(\n",
    "        PolynomialFeatures(),\n",
    "        LinearRegression(fit_intercept=False)\n",
    "    )\n",
    "\n",
    "parameters = {\n",
    "    'polynomialfeatures__degree': np.arange(1,31,1)\n",
    "}\n",
    "\n",
    "kf = KFold(n_splits=5, shuffle=True, random_state=0)\n",
    "\n",
    "grid_search = GridSearchCV(m, parameters, cv=kf, scoring=\"neg_root_mean_squared_error\").fit(X, y)"
   ]
  },
  {
   "cell_type": "markdown",
   "metadata": {
    "cell_id": "00046-796b9f2a-55e9-4ee6-add8-9bb0490fe381",
    "deepnote_cell_type": "markdown"
   },
   "source": [
    "The above code goes through the process of fitting all $5 \\times 30$ models as well as storing and ranking the results for the requested scoring metric(s).\n",
    "\n",
    "Once all of the submodels are fit, we can determine the optimal hyperparameter value by accessing the object's `best_*` attributes,"
   ]
  },
  {
   "cell_type": "code",
   "execution_count": null,
   "metadata": {
    "cell_id": "00047-abb82df6-10c3-45cf-a3f0-f3e59e0988aa",
    "deepnote_cell_type": "code"
   },
   "outputs": [],
   "source": [
    "print(\"best index: \", grid_search.best_index_)\n",
    "print(\"best param: \", grid_search.best_params_)\n",
    "print(\"best score: \", grid_search.best_score_)"
   ]
  },
  {
   "cell_type": "markdown",
   "metadata": {
    "cell_id": "00048-3ff72d90-3254-42be-9cc2-a676a4d725a0",
    "deepnote_cell_type": "markdown"
   },
   "source": [
    "Here we see that this proceedure has selected the model with polynomial degree 13 as having the best fit, and this model achieved an average rmse of $0.196$.\n",
    "\n",
    "Additional useful details from the CV process are available in the `cv_results_` attribute, which provides CV and scoring details,"
   ]
  },
  {
   "cell_type": "code",
   "execution_count": null,
   "metadata": {
    "cell_id": "00049-d6562c8b-0795-4ba0-b49f-aad1b88c9725",
    "deepnote_cell_type": "code"
   },
   "outputs": [],
   "source": [
    "grid_search.cv_results_[\"mean_test_score\"]"
   ]
  },
  {
   "cell_type": "code",
   "execution_count": null,
   "metadata": {
    "cell_id": "00050-dcbbfbdb-7761-46e4-bc2a-8298c5f084d8",
    "deepnote_cell_type": "code"
   },
   "outputs": [],
   "source": [
    "grid_search.cv_results_[\"split0_test_score\"]"
   ]
  },
  {
   "cell_type": "markdown",
   "metadata": {
    "cell_id": "00051-3c129219-d7cd-4500-98cb-2f704cd6075e",
    "deepnote_cell_type": "markdown"
   },
   "source": [
    "Finally, the `best_estimator_` attribute gives direct access to the \"best\" model (pipeline) object. Which allows for direct inspection of model coefficients, make predictions, etc."
   ]
  },
  {
   "cell_type": "code",
   "execution_count": null,
   "metadata": {
    "cell_id": "00052-5f906237-40c9-4dbd-b803-44b7b5541ca8",
    "deepnote_cell_type": "code"
   },
   "outputs": [],
   "source": [
    "grid_search.best_estimator_"
   ]
  },
  {
   "cell_type": "code",
   "execution_count": null,
   "metadata": {
    "cell_id": "00053-573636ec-c073-40c2-9637-39918d20601f",
    "deepnote_cell_type": "code"
   },
   "outputs": [],
   "source": [
    "grid_search.best_estimator_.named_steps['linearregression'].coef_"
   ]
  },
  {
   "cell_type": "markdown",
   "metadata": {
    "cell_id": "00054-77d31192-0a7d-4f97-8d79-2891c1fcc6ae",
    "deepnote_cell_type": "markdown"
   },
   "source": [
    "For example if we wanted to plot this \"best\" model's fit to the data we can use the object's predict method directly."
   ]
  },
  {
   "cell_type": "code",
   "execution_count": null,
   "metadata": {
    "cell_id": "00055-1caf990c-bcc8-4ffc-9f3a-76ad398dc2b6",
    "deepnote_cell_type": "code"
   },
   "outputs": [],
   "source": [
    "sns.scatterplot(x='x', y='y', data=d, color=\"black\")\n",
    "sns.lineplot(\n",
    "    x=d.x,\n",
    "    y=grid_search.best_estimator_.predict(X)\n",
    ")"
   ]
  },
  {
   "cell_type": "markdown",
   "metadata": {
    "cell_id": "00056-acd188c2-2933-41db-b55f-46d723921652",
    "deepnote_cell_type": "markdown"
   },
   "source": [
    "---\n",
    "\n",
    "### &diams; Exercise 7\n",
    "\n",
    "Do these results appear to be \"robust\"? More specifically, do you think that the degree 13 polynomial model is actually the best? If you were to change the `random_state` used for the shuffling of the folds, will this result change?"
   ]
  },
  {
   "cell_type": "markdown",
   "metadata": {
    "cell_id": "00057-ff0fe3bb-cce3-4084-9de6-ccb2cbdc70d3",
    "deepnote_cell_type": "markdown"
   },
   "source": []
  },
  {
   "cell_type": "markdown",
   "metadata": {
    "cell_id": "00058-b81b792b-3b71-4614-8339-d5f365a7734c",
    "deepnote_cell_type": "markdown"
   },
   "source": [
    "---\n",
    "\n",
    "# 3. Additional dimensions and CV\n",
    "\n",
    "Let us now consider an additive regression model of the following form,\n",
    "\n",
    "$$ y = f(x_1) + g(x_2) + h(x_3) + \\epsilon $$\n",
    "\n",
    "where $f()$, $g()$, and $h()$ are polynomials with fix degrees, we will assume linear, quadratic and cubic in this case with the following coefficients:\n",
    "\n",
    "$$\n",
    "\\begin{aligned}\n",
    "f(x) &= 1.2 x + 1.1 \\\\\n",
    "g(x) &= 2.5 x^2 - 0.9 x - 3.2  \\\\\n",
    "h(x) &= 2 x^3 + 0.4 x^2 - 5.2 x + 2.7\n",
    "\\end{aligned}\n",
    "$$\n",
    "\n",
    "We generate values for $x_1$, $x_2$, $x_3$, and $\\epsilon$ and then use these values to calculate observations of $y$ using the following code.\n"
   ]
  },
  {
   "cell_type": "code",
   "execution_count": null,
   "metadata": {
    "cell_id": "00059-61dfe155-ff5d-4489-8012-e1aaf4dd0934",
    "deepnote_cell_type": "code"
   },
   "outputs": [],
   "source": [
    "np.random.seed(1234)\n",
    "n = 500\n",
    "\n",
    "f = lambda x: 1.2 * x + 1.1\n",
    "g = lambda x: 2.5 * x**2 - 0.9 * x - 3.2 \n",
    "h = lambda x: 2 * x**3 + 0.4 * x**2 - 5.2 * x + 2.7\n",
    "\n",
    "ex2 = pd.DataFrame({\n",
    "    \"x1\": np.random.rand(n),\n",
    "    \"x2\": np.random.rand(n),\n",
    "    \"x3\": np.random.rand(n)\n",
    "}).assign(\n",
    "   y = lambda d: f(d.x1) + g(d.x2) + h(d.x3) + 0.25*np.random.randn(n) # epsilon\n",
    ")\n",
    "\n",
    "print(ex2)"
   ]
  },
  {
   "cell_type": "markdown",
   "metadata": {
    "cell_id": "00060-35cf3a8a-f874-48f9-859e-92c1e2c6884b",
    "deepnote_cell_type": "markdown"
   },
   "source": [
    "---\n",
    "\n",
    "### &diams; Exercise 8\n",
    "\n",
    "Create a pairs plot of these data, from this alone is it possible to identify the polynomial relationships between $y$ and the $x$s?"
   ]
  },
  {
   "cell_type": "code",
   "execution_count": null,
   "metadata": {
    "cell_id": "00061-45c01f8b-a3ca-490c-bb7e-37ea571b1ee6",
    "deepnote_cell_type": "code"
   },
   "outputs": [],
   "source": []
  },
  {
   "cell_type": "markdown",
   "metadata": {
    "cell_id": "00062-420273ae-dd1f-46f0-8413-225ef493f906",
    "deepnote_cell_type": "markdown"
   },
   "source": []
  },
  {
   "cell_type": "markdown",
   "metadata": {
    "cell_id": "00063-121ac542-b680-467d-8b37-74548312cc8d",
    "deepnote_cell_type": "markdown"
   },
   "source": [
    "---\n",
    "\n",
    "We will assume that we know that each of the functions $f()$, $g()$, and $h()$ are at most of degree 3 - we can try to fit a polynomial model to these data using the tools we've seen thus far. "
   ]
  },
  {
   "cell_type": "code",
   "execution_count": null,
   "metadata": {
    "cell_id": "00064-58bd31cf-ced6-4923-8023-f0eb811a676a",
    "deepnote_cell_type": "code"
   },
   "outputs": [],
   "source": [
    "X = ex2.drop(columns=['y']) # Keep as a data frame not a nparray\n",
    "y = ex2.y"
   ]
  },
  {
   "cell_type": "code",
   "execution_count": null,
   "metadata": {
    "cell_id": "00065-eedf918c-1114-4d47-b833-beb6f5d02467",
    "deepnote_cell_type": "code"
   },
   "outputs": [],
   "source": [
    "m = make_pipeline(\n",
    "    PolynomialFeatures(degree=3),\n",
    "    LinearRegression(fit_intercept=False)\n",
    ")\n",
    "\n",
    "fit = m.fit(X, y)"
   ]
  },
  {
   "cell_type": "markdown",
   "metadata": {
    "cell_id": "00066-c9e6805d-ee14-48a3-8e4d-aa398ca444b5",
    "deepnote_cell_type": "markdown"
   },
   "source": [
    "The following line prints out the model coefficients for the fitted model. While we may have expected only 10 (or 9) parameters in this model, we instead get 20 coefficients for this model."
   ]
  },
  {
   "cell_type": "code",
   "execution_count": null,
   "metadata": {
    "cell_id": "00067-55887400-ff15-4096-867a-057f44da3fda",
    "deepnote_cell_type": "code"
   },
   "outputs": [],
   "source": [
    "print( fit.named_steps['linearregression'].coef_ )"
   ]
  },
  {
   "cell_type": "markdown",
   "metadata": {
    "cell_id": "00068-775cab03-ceba-4b55-b4fb-8f2531b341e2",
    "deepnote_cell_type": "markdown"
   },
   "source": [
    "The reason for this becomes more clear if we examine the `powers_` attribute which returns lists of the powers of $x_1$, $x_2$, and $x_3$ for each of the model terms. So for example the coeficient $0.282$ belongs to the $x_1^0 \\, x_2^0 \\, x_3^0$ term (i.e. the model intercept). "
   ]
  },
  {
   "cell_type": "code",
   "execution_count": null,
   "metadata": {
    "cell_id": "00069-68233f33-3caf-4b45-ad75-c3b4e6c651a9",
    "deepnote_cell_type": "code"
   },
   "outputs": [],
   "source": [
    "print( fit.named_steps['polynomialfeatures'].powers_ )"
   ]
  },
  {
   "cell_type": "markdown",
   "metadata": {
    "cell_id": "00070-19bed0bd-81c2-46c2-b3e4-9a0c8f46e2d9",
    "deepnote_cell_type": "markdown"
   },
   "source": [
    "---\n",
    "\n",
    "### &diams; Exercise 10\n",
    "\n",
    "Compare the fitted coefficients with the \"true\" values for our data, how close are they?"
   ]
  },
  {
   "cell_type": "code",
   "execution_count": null,
   "metadata": {
    "cell_id": "00071-31bdc88b-62f8-46b3-9e56-7c73317374f0",
    "deepnote_cell_type": "code"
   },
   "outputs": [],
   "source": []
  },
  {
   "cell_type": "markdown",
   "metadata": {
    "cell_id": "00072-e9ef7b8d-4d41-49c9-8ecd-82fdf579cda7",
    "deepnote_cell_type": "markdown"
   },
   "source": [
    "---\n",
    "\n",
    "### &diams; Exercise 11\n",
    "\n",
    "Calculate the 5-fold cross validation rmse for this model."
   ]
  },
  {
   "cell_type": "code",
   "execution_count": null,
   "metadata": {
    "cell_id": "00073-2f134b8f-d30d-4bcb-9450-ca90e1595b85",
    "deepnote_cell_type": "code"
   },
   "outputs": [],
   "source": []
  },
  {
   "cell_type": "markdown",
   "metadata": {
    "cell_id": "00074-6239fcde-9583-4437-9188-9773672683c5",
    "deepnote_cell_type": "markdown"
   },
   "source": [
    "---\n",
    "\n",
    "## 3.2 Column Transformers\n",
    "\n",
    "For this particular model we do not want these interaction terms between our features, but this is not something that `sklearn` allows us to disable for `PolynomialFeatures`. This is actually a specific example of a more general issue where we do not want to apply a transformer to all of the features of a model at the same time. For this particularly example, we would like to apply an individual polynomial transformation to each of the three $x$. To do this we will use sklearn's `ColumnTransformer` and the `make_column_transformer` helper function from the `compose` submodule."
   ]
  },
  {
   "cell_type": "code",
   "execution_count": null,
   "metadata": {
    "cell_id": "00075-079592d1-a401-439c-a589-fa7b175bd301",
    "deepnote_cell_type": "code"
   },
   "outputs": [],
   "source": [
    "from sklearn.compose import ColumnTransformer, make_column_transformer"
   ]
  },
  {
   "cell_type": "code",
   "execution_count": null,
   "metadata": {
    "cell_id": "00076-c5d1484e-066f-4316-a666-55be6da5af8b",
    "deepnote_cell_type": "code"
   },
   "outputs": [],
   "source": [
    "ind_poly = make_column_transformer(\n",
    "    (PolynomialFeatures(degree=3, include_bias=False), ['x1']),\n",
    "    (PolynomialFeatures(degree=3, include_bias=False), ['x2']),\n",
    "    (PolynomialFeatures(degree=3, include_bias=False), ['x3']),\n",
    ")"
   ]
  },
  {
   "cell_type": "markdown",
   "metadata": {
    "cell_id": "00077-7b082005-ac52-40fc-9668-80028be94ea8",
    "deepnote_cell_type": "markdown"
   },
   "source": [
    "The arguments for `make_column_transformer` are tuples of the desired transformer object and the name of the columns that will have that transformer applied. Once constructed the column transfomer works like any other transformer object and can be applied via `fit` and `transform` or `fit_transform` methods."
   ]
  },
  {
   "cell_type": "code",
   "execution_count": null,
   "metadata": {
    "cell_id": "00078-1724bf64-e667-43e7-938a-5beb101b1315",
    "deepnote_cell_type": "code"
   },
   "outputs": [],
   "source": [
    "trans = ind_poly.fit_transform(X, y)"
   ]
  },
  {
   "cell_type": "code",
   "execution_count": null,
   "metadata": {
    "cell_id": "00079-79426d1b-97d9-4cbf-8b5d-6a13de55c135",
    "deepnote_cell_type": "code"
   },
   "outputs": [],
   "source": [
    "pd.DataFrame(trans) # printing as a DataFrame makes the array more readable"
   ]
  },
  {
   "cell_type": "markdown",
   "metadata": {
    "cell_id": "00080-295e71f0-1654-42d2-bc4c-19662ce60c76",
    "deepnote_cell_type": "markdown"
   },
   "source": [
    "`ColumnTransformer`s are like `pipeline`s but they include a specific column or columns for the transformer to be applied. By using this transformer we take each feature and apply a single polynomial feature transformer, of degree 3 (excluding the intercept column (bias)), resulting in 9 total features as output (3 for each input feature). We can check these values make sense by examining them along with the original values of the $x$s. Here we are using `include_bias=False` to avoid creating a rank deficient model matrix, which would result if all three polynomial features transforms included the same intercept column."
   ]
  },
  {
   "cell_type": "code",
   "execution_count": null,
   "metadata": {
    "cell_id": "00081-5d42178d-4345-411e-8063-1d2d097881b2",
    "deepnote_cell_type": "code"
   },
   "outputs": [],
   "source": [
    "pd.concat([X, pd.DataFrame(trans)], axis=1)"
   ]
  },
  {
   "cell_type": "markdown",
   "metadata": {
    "cell_id": "00082-d0a10e37-a5d8-4710-9079-2af9e670eeef",
    "deepnote_cell_type": "markdown"
   },
   "source": [
    "A `ColumnTransformer` is like any other transformer and can therefore be included in a pipeline, this enables us to create a pipeline for fitting our desired polynomial regression model (with no interaction terms). Since the polynomial features no longer include an intercept, we can add this back to the model with `fit_intercept=True` in the linear regression step."
   ]
  },
  {
   "cell_type": "code",
   "execution_count": null,
   "metadata": {
    "cell_id": "00083-b3b392dc-3583-4641-8e70-dd13b80d34af",
    "deepnote_cell_type": "code"
   },
   "outputs": [],
   "source": [
    "m2 = make_pipeline(\n",
    "    make_column_transformer(\n",
    "        (PolynomialFeatures(degree=3, include_bias=False), ['x1']),\n",
    "        (PolynomialFeatures(degree=3, include_bias=False), ['x2']),\n",
    "        (PolynomialFeatures(degree=3, include_bias=False), ['x3']),\n",
    "    ),\n",
    "    LinearRegression(fit_intercept=True)\n",
    ")\n",
    "\n",
    "fit = m2.fit(X, y)"
   ]
  },
  {
   "cell_type": "markdown",
   "metadata": {
    "cell_id": "00084-3b1ebab4-b0bc-4162-a5b4-d9560d2e74d2",
    "deepnote_cell_type": "markdown"
   },
   "source": [
    "We can examine the fitted values of the coefficients by accessing the `linearregression` step and its `coef_` and `intercept_` attributes."
   ]
  },
  {
   "cell_type": "code",
   "execution_count": null,
   "metadata": {
    "cell_id": "00085-87ebbf54-19e9-4213-8248-ccec75a2c9ad",
    "deepnote_cell_type": "code"
   },
   "outputs": [],
   "source": [
    "fit.named_steps['linearregression'].coef_"
   ]
  },
  {
   "cell_type": "code",
   "execution_count": null,
   "metadata": {
    "cell_id": "00086-5913ba8d-a2e5-4d8d-af7b-c1c035476d53",
    "deepnote_cell_type": "code"
   },
   "outputs": [],
   "source": [
    "fit.named_steps['linearregression'].intercept_"
   ]
  },
  {
   "cell_type": "markdown",
   "metadata": {
    "cell_id": "00087-c4e5a526-ad00-49ef-84d3-48d4b460dd25",
    "deepnote_cell_type": "markdown"
   },
   "source": [
    "Instead of directly fitting, we can also use this pipeline with cross validation functions like `cross_val_score` to obtain a more reliable estimate of our model's rmses."
   ]
  },
  {
   "cell_type": "code",
   "execution_count": null,
   "metadata": {
    "cell_id": "00088-3a9351c3-83e5-4203-b590-be2a85af00e0",
    "deepnote_cell_type": "code"
   },
   "outputs": [],
   "source": [
    "cv = cross_val_score(m2, X, y, cv=5, scoring=\"neg_root_mean_squared_error\")\n",
    "\n",
    "print(cv)\n",
    "print(cv.mean())"
   ]
  },
  {
   "cell_type": "markdown",
   "metadata": {
    "cell_id": "00089-69aa3093-17cf-4169-b46e-c2d8740cbcfd",
    "deepnote_cell_type": "markdown"
   },
   "source": [
    "---\n",
    "\n",
    "### &diams; Exercise 12\n",
    "\n",
    "Is this rmse better or worse than the rmse calculated for the original model that included interactions? Explain why you think this is."
   ]
  },
  {
   "cell_type": "markdown",
   "metadata": {
    "cell_id": "00090-3961e74e-b1d7-42b1-8789-918d8ace2f79",
    "deepnote_cell_type": "markdown"
   },
   "source": []
  },
  {
   "cell_type": "markdown",
   "metadata": {
    "cell_id": "00091-0fc2eaf8-6ed1-40f0-b01e-8af7d5a8aad9",
    "deepnote_cell_type": "markdown"
   },
   "source": [
    "---\n",
    "\n",
    "## 3.3 Column Transformers & CV Grid Search\n",
    "\n",
    "Finally we will see if we can come close to recovering the original forms of $f()$, $g()$, and $h()$ using `GridSearchCV`.  This builds on our previous use of this function, but now we need to optimize over the degree parameter of all three of the polynomial feature transformers. We can examine the names of these transforms by examining the `named_transformers_` attribute associated with the `columntransformer`,"
   ]
  },
  {
   "cell_type": "code",
   "execution_count": null,
   "metadata": {
    "cell_id": "00092-c94864c0-4d94-4e57-9ddb-be5c253513bf",
    "deepnote_cell_type": "code"
   },
   "outputs": [],
   "source": [
    "m2.named_steps['columntransformer'].named_transformers_"
   ]
  },
  {
   "cell_type": "markdown",
   "metadata": {
    "cell_id": "00093-16e755ab-01db-405c-aec0-5584b928c902",
    "deepnote_cell_type": "markdown"
   },
   "source": [
    "This gives us the transformer names: `polynomialfeatures-1`, `polynomialfeatures-2`, and `polynomialfeatures-3` which are referenced in the same way by combining the step name with the transformer name and then the parameter name separated by `__`. As such, the degree parameter for the first transformer will be `columntransformer__polynomialfeatures-1__degree`. It is also possible to view all of the parameters for a model or pipeline by looking at the keys returns by the `get_params` method."
   ]
  },
  {
   "cell_type": "code",
   "execution_count": null,
   "metadata": {
    "cell_id": "00094-58cf93ba-82c3-4b94-9c20-50c7cd992317",
    "deepnote_cell_type": "code"
   },
   "outputs": [],
   "source": [
    "m2.get_params().keys()"
   ]
  },
  {
   "cell_type": "markdown",
   "metadata": {
    "cell_id": "00095-18161060-1971-4d93-b5c4-97e09ff67f50",
    "deepnote_cell_type": "markdown"
   },
   "source": [
    "To keep the space of parameters being explored reasonable we will restrict the possible value of the degrees parameter to be in $[1,\\ldots,5]$. This may take a little bit as we are now fitting a decently large number of models."
   ]
  },
  {
   "cell_type": "code",
   "execution_count": null,
   "metadata": {
    "cell_id": "00096-98000146-9621-4249-a6b2-04d226605425",
    "deepnote_cell_type": "code"
   },
   "outputs": [],
   "source": [
    "parameters = {\n",
    "    'columntransformer__polynomialfeatures-1__degree': np.arange(1,5,1),\n",
    "    'columntransformer__polynomialfeatures-2__degree': np.arange(1,5,1),\n",
    "    'columntransformer__polynomialfeatures-3__degree': np.arange(1,5,1),\n",
    "}\n",
    "\n",
    "kf = KFold(n_splits=5, shuffle=True, random_state=0)\n",
    "\n",
    "grid_search = GridSearchCV(m2, parameters, cv=kf, scoring=\"neg_root_mean_squared_error\").fit(X, y)"
   ]
  },
  {
   "cell_type": "markdown",
   "metadata": {
    "cell_id": "00097-ac45301c-6bbd-4f63-9640-b5db92963df1",
    "deepnote_cell_type": "markdown"
   },
   "source": [
    "---\n",
    "\n",
    "### &diams; Exercise 13\n",
    "\n",
    "How many models have been fit and scored by `GridSearchCV`?"
   ]
  },
  {
   "cell_type": "markdown",
   "metadata": {
    "cell_id": "00098-ea57bfd8-f37f-41ba-b2f6-98b0ee5a0258",
    "deepnote_cell_type": "markdown"
   },
   "source": []
  },
  {
   "cell_type": "markdown",
   "metadata": {
    "cell_id": "00099-373d648f-aa87-4b00-9722-2e39d2ea6708",
    "deepnote_cell_type": "markdown"
   },
   "source": [
    "---\n",
    "\n",
    "Once fit, we can determine the optimal parameter value by accessing `grid_search`'s attributes,"
   ]
  },
  {
   "cell_type": "code",
   "execution_count": null,
   "metadata": {
    "cell_id": "00100-8e303b0b-dc5b-4a29-a711-722a26a52041",
    "deepnote_cell_type": "code"
   },
   "outputs": [],
   "source": [
    "print(\"best index: \", grid_search.best_index_)\n",
    "print(\"best param: \", grid_search.best_params_)\n",
    "print(\"best score: \", grid_search.best_score_)"
   ]
  },
  {
   "cell_type": "markdown",
   "metadata": {
    "cell_id": "00101-faad4c5a-3516-410a-a300-12793af8e755",
    "deepnote_cell_type": "markdown"
   },
   "source": [
    "---\n",
    "\n",
    "### &diams; Exercise 14\n",
    "\n",
    "Based on these results have we done a good job of recovering the general structure of the functions $f()$, $g()$, and $h()$? e.g. have we correctly recovered the degrees of these functions."
   ]
  },
  {
   "cell_type": "markdown",
   "metadata": {
    "cell_id": "00102-33f82b64-a027-4ace-b4d1-72ae32ece948",
    "deepnote_cell_type": "markdown"
   },
   "source": []
  },
  {
   "cell_type": "markdown",
   "metadata": {
    "cell_id": "00103-38f49527-036d-4328-8b93-0084bb27a402",
    "deepnote_cell_type": "markdown"
   },
   "source": [
    "---\n",
    "\n",
    "We can directly access the properties of the \"best\" model, according to our scoring method, using the `best_estimator_` attribute. From this we can access the `linearregression` step of the pipeline to recover the model coefficients."
   ]
  },
  {
   "cell_type": "code",
   "execution_count": null,
   "metadata": {
    "cell_id": "00104-a21f4363-ee5b-4220-8cab-58e61ec78b7c",
    "deepnote_cell_type": "code"
   },
   "outputs": [],
   "source": [
    "grid_search.best_estimator_.named_steps[\"linearregression\"].intercept_"
   ]
  },
  {
   "cell_type": "code",
   "execution_count": null,
   "metadata": {
    "cell_id": "00105-f94b6ca3-533f-4a61-a504-7354157512fe",
    "deepnote_cell_type": "code"
   },
   "outputs": [],
   "source": [
    "grid_search.best_estimator_.named_steps[\"linearregression\"].coef_"
   ]
  },
  {
   "cell_type": "markdown",
   "metadata": {
    "cell_id": "00106-5da3164f-bbbc-4237-b3c2-3270f25aa6f2",
    "deepnote_cell_type": "markdown"
   },
   "source": [
    "---\n",
    "\n",
    "### &diams; Exercise 15\n",
    "\n",
    "Compare the coefficient values we obtained via `GridSearchCV` to the true values used to generate the $y$ observations, how well have recovered the truth values of the coefficients?"
   ]
  },
  {
   "cell_type": "markdown",
   "metadata": {
    "cell_id": "00107-51406b38-361f-4a07-807f-bd37b55f472f",
    "deepnote_cell_type": "markdown"
   },
   "source": []
  },
  {
   "cell_type": "markdown",
   "metadata": {
    "cell_id": "00108-da392bde-c3ba-4969-a4e3-c3c1b91cb311",
    "deepnote_cell_type": "markdown"
   },
   "source": [
    "---\n",
    "\n",
    "### &diams; Bonus Exercise\n",
    "\n",
    "Repeat the analysis above but use only 200 observations of `ex2` instead of all 500. How does your resulting \"best\" model change? What about 100 or 50 observations? How dependent are the results on the original sample size?"
   ]
  },
  {
   "cell_type": "markdown",
   "metadata": {
    "cell_id": "00109-b5bf2493-267b-443f-a0a6-7062d091d5ff",
    "deepnote_cell_type": "markdown",
    "tags": []
   },
   "source": [
    "---\n",
    "\n",
    "## 4. Competing the worksheet\n",
    "\n",
    "At this point you have hopefully been able to complete all the preceeding exercises. Now \n",
    "is a good time to check the reproducibility of this document by restarting the notebook's\n",
    "kernel and rerunning all cells in order.\n",
    "\n",
    "Once that is done and you are happy with everything, you can then run the following cell \n",
    "to generate your PDF and turn it in on gradescope under the `mlp-week04` assignment."
   ]
  },
  {
   "cell_type": "code",
   "execution_count": null,
   "metadata": {
    "cell_id": "00112-0fc6faf7-b9f4-426b-a462-726a2601e149",
    "deepnote_cell_type": "code",
    "deepnote_to_be_reexecuted": false,
    "execution_millis": 10531,
    "execution_start": 1612353465438,
    "source_hash": "950a0210",
    "tags": []
   },
   "outputs": [],
   "source": [
    "!jupyter nbconvert --to pdf mlp-week04.ipynb"
   ]
  }
 ],
 "metadata": {
  "deepnote_execution_queue": [],
  "deepnote_notebook_id": "5023007d-9528-4a57-b3df-4db60e744e23",
  "kernelspec": {
   "display_name": "Python 3",
   "language": "python",
   "name": "python3"
  },
  "language_info": {
   "codemirror_mode": {
    "name": "ipython",
    "version": 3
   },
   "file_extension": ".py",
   "mimetype": "text/x-python",
   "name": "python",
   "nbconvert_exporter": "python",
   "pygments_lexer": "ipython3",
   "version": "3.9.1"
  }
 },
 "nbformat": 4,
 "nbformat_minor": 4
}
